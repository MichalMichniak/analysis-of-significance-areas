{
 "cells": [
  {
   "cell_type": "code",
   "execution_count": 96,
   "metadata": {},
   "outputs": [
    {
     "data": {
      "text/html": [
       "<div>\n",
       "<style scoped>\n",
       "    .dataframe tbody tr th:only-of-type {\n",
       "        vertical-align: middle;\n",
       "    }\n",
       "\n",
       "    .dataframe tbody tr th {\n",
       "        vertical-align: top;\n",
       "    }\n",
       "\n",
       "    .dataframe thead th {\n",
       "        text-align: right;\n",
       "    }\n",
       "</style>\n",
       "<table border=\"1\" class=\"dataframe\">\n",
       "  <thead>\n",
       "    <tr style=\"text-align: right;\">\n",
       "      <th></th>\n",
       "      <th>0</th>\n",
       "      <th>1</th>\n",
       "      <th>2</th>\n",
       "      <th>3</th>\n",
       "      <th>4</th>\n",
       "    </tr>\n",
       "  </thead>\n",
       "  <tbody>\n",
       "    <tr>\n",
       "      <th>0</th>\n",
       "      <td>2.090490</td>\n",
       "      <td>2.050235</td>\n",
       "      <td>0.362454</td>\n",
       "      <td>0.405880</td>\n",
       "      <td>0</td>\n",
       "    </tr>\n",
       "    <tr>\n",
       "      <th>1</th>\n",
       "      <td>1.993704</td>\n",
       "      <td>2.149532</td>\n",
       "      <td>0.462083</td>\n",
       "      <td>0.307261</td>\n",
       "      <td>1</td>\n",
       "    </tr>\n",
       "    <tr>\n",
       "      <th>2</th>\n",
       "      <td>1.958095</td>\n",
       "      <td>1.931773</td>\n",
       "      <td>0.497731</td>\n",
       "      <td>0.524901</td>\n",
       "      <td>2</td>\n",
       "    </tr>\n",
       "    <tr>\n",
       "      <th>3</th>\n",
       "      <td>1.949994</td>\n",
       "      <td>1.922367</td>\n",
       "      <td>0.504630</td>\n",
       "      <td>0.537907</td>\n",
       "      <td>3</td>\n",
       "    </tr>\n",
       "    <tr>\n",
       "      <th>4</th>\n",
       "      <td>1.935712</td>\n",
       "      <td>1.932544</td>\n",
       "      <td>0.520370</td>\n",
       "      <td>0.525703</td>\n",
       "      <td>4</td>\n",
       "    </tr>\n",
       "  </tbody>\n",
       "</table>\n",
       "</div>"
      ],
      "text/plain": [
       "          0         1         2         3  4\n",
       "0  2.090490  2.050235  0.362454  0.405880  0\n",
       "1  1.993704  2.149532  0.462083  0.307261  1\n",
       "2  1.958095  1.931773  0.497731  0.524901  2\n",
       "3  1.949994  1.922367  0.504630  0.537907  3\n",
       "4  1.935712  1.932544  0.520370  0.525703  4"
      ]
     },
     "execution_count": 96,
     "metadata": {},
     "output_type": "execute_result"
    }
   ],
   "source": [
    "import pandas as pd\n",
    "df = pd.read_csv(\"models_logs/resnet50_model.csv\", header=None)\n",
    "df.head()"
   ]
  },
  {
   "cell_type": "code",
   "execution_count": 97,
   "metadata": {},
   "outputs": [
    {
     "data": {
      "text/plain": [
       "25"
      ]
     },
     "execution_count": 97,
     "metadata": {},
     "output_type": "execute_result"
    }
   ],
   "source": [
    "df[4].max()"
   ]
  },
  {
   "cell_type": "code",
   "execution_count": 98,
   "metadata": {},
   "outputs": [
    {
     "data": {
      "text/html": [
       "<div>\n",
       "<style scoped>\n",
       "    .dataframe tbody tr th:only-of-type {\n",
       "        vertical-align: middle;\n",
       "    }\n",
       "\n",
       "    .dataframe tbody tr th {\n",
       "        vertical-align: top;\n",
       "    }\n",
       "\n",
       "    .dataframe thead th {\n",
       "        text-align: right;\n",
       "    }\n",
       "</style>\n",
       "<table border=\"1\" class=\"dataframe\">\n",
       "  <thead>\n",
       "    <tr style=\"text-align: right;\">\n",
       "      <th></th>\n",
       "      <th>0</th>\n",
       "      <th>1</th>\n",
       "      <th>2</th>\n",
       "      <th>3</th>\n",
       "      <th>4</th>\n",
       "    </tr>\n",
       "  </thead>\n",
       "  <tbody>\n",
       "    <tr>\n",
       "      <th>0</th>\n",
       "      <td>2.090490</td>\n",
       "      <td>2.050235</td>\n",
       "      <td>0.362454</td>\n",
       "      <td>0.405880</td>\n",
       "      <td>0</td>\n",
       "    </tr>\n",
       "    <tr>\n",
       "      <th>1</th>\n",
       "      <td>1.993704</td>\n",
       "      <td>2.149532</td>\n",
       "      <td>0.462083</td>\n",
       "      <td>0.307261</td>\n",
       "      <td>1</td>\n",
       "    </tr>\n",
       "    <tr>\n",
       "      <th>2</th>\n",
       "      <td>1.958095</td>\n",
       "      <td>1.931773</td>\n",
       "      <td>0.497731</td>\n",
       "      <td>0.524901</td>\n",
       "      <td>2</td>\n",
       "    </tr>\n",
       "    <tr>\n",
       "      <th>3</th>\n",
       "      <td>1.949994</td>\n",
       "      <td>1.922367</td>\n",
       "      <td>0.504630</td>\n",
       "      <td>0.537907</td>\n",
       "      <td>3</td>\n",
       "    </tr>\n",
       "    <tr>\n",
       "      <th>4</th>\n",
       "      <td>1.935712</td>\n",
       "      <td>1.932544</td>\n",
       "      <td>0.520370</td>\n",
       "      <td>0.525703</td>\n",
       "      <td>4</td>\n",
       "    </tr>\n",
       "    <tr>\n",
       "      <th>...</th>\n",
       "      <td>...</td>\n",
       "      <td>...</td>\n",
       "      <td>...</td>\n",
       "      <td>...</td>\n",
       "      <td>...</td>\n",
       "    </tr>\n",
       "    <tr>\n",
       "      <th>83</th>\n",
       "      <td>1.516105</td>\n",
       "      <td>1.521482</td>\n",
       "      <td>0.941019</td>\n",
       "      <td>0.938979</td>\n",
       "      <td>101</td>\n",
       "    </tr>\n",
       "    <tr>\n",
       "      <th>84</th>\n",
       "      <td>1.516453</td>\n",
       "      <td>1.533187</td>\n",
       "      <td>0.941111</td>\n",
       "      <td>0.927638</td>\n",
       "      <td>103</td>\n",
       "    </tr>\n",
       "    <tr>\n",
       "      <th>85</th>\n",
       "      <td>1.517193</td>\n",
       "      <td>1.523997</td>\n",
       "      <td>0.940602</td>\n",
       "      <td>0.937007</td>\n",
       "      <td>104</td>\n",
       "    </tr>\n",
       "    <tr>\n",
       "      <th>86</th>\n",
       "      <td>1.515697</td>\n",
       "      <td>1.533775</td>\n",
       "      <td>0.941667</td>\n",
       "      <td>0.926590</td>\n",
       "      <td>105</td>\n",
       "    </tr>\n",
       "    <tr>\n",
       "      <th>87</th>\n",
       "      <td>1.524678</td>\n",
       "      <td>1.525227</td>\n",
       "      <td>0.932593</td>\n",
       "      <td>0.935713</td>\n",
       "      <td>106</td>\n",
       "    </tr>\n",
       "  </tbody>\n",
       "</table>\n",
       "<p>88 rows × 5 columns</p>\n",
       "</div>"
      ],
      "text/plain": [
       "           0         1         2         3    4\n",
       "0   2.090490  2.050235  0.362454  0.405880    0\n",
       "1   1.993704  2.149532  0.462083  0.307261    1\n",
       "2   1.958095  1.931773  0.497731  0.524901    2\n",
       "3   1.949994  1.922367  0.504630  0.537907    3\n",
       "4   1.935712  1.932544  0.520370  0.525703    4\n",
       "..       ...       ...       ...       ...  ...\n",
       "83  1.516105  1.521482  0.941019  0.938979  101\n",
       "84  1.516453  1.533187  0.941111  0.927638  103\n",
       "85  1.517193  1.523997  0.940602  0.937007  104\n",
       "86  1.515697  1.533775  0.941667  0.926590  105\n",
       "87  1.524678  1.525227  0.932593  0.935713  106\n",
       "\n",
       "[88 rows x 5 columns]"
      ]
     },
     "execution_count": 98,
     "metadata": {},
     "output_type": "execute_result"
    }
   ],
   "source": [
    "import matplotlib.pyplot as plt\n",
    "temp = 0\n",
    "for i in range(1,len(df[4])):\n",
    "    df.at[i,4] += temp\n",
    "    if df[4].iloc[i] < df[4].iloc[i-1]:\n",
    "        temp += 27\n",
    "        df.at[i,4] += 27\n",
    "df"
   ]
  },
  {
   "cell_type": "code",
   "execution_count": 99,
   "metadata": {},
   "outputs": [
    {
     "data": {
      "text/plain": [
       "[<matplotlib.lines.Line2D at 0x1b1531f5610>]"
      ]
     },
     "execution_count": 99,
     "metadata": {},
     "output_type": "execute_result"
    },
    {
     "data": {
      "image/png": "[encoded data removed]",
      "text/plain": [
       "<Figure size 640x480 with 1 Axes>"
      ]
     },
     "metadata": {},
     "output_type": "display_data"
    }
   ],
   "source": [
    "plt.plot(df[4],df[0])\n",
    "plt.plot(df[4],df[1])"
   ]
  },
  {
   "cell_type": "code",
   "execution_count": 100,
   "metadata": {},
   "outputs": [
    {
     "data": {
      "text/plain": [
       "[<matplotlib.lines.Line2D at 0x1b15423f280>]"
      ]
     },
     "execution_count": 100,
     "metadata": {},
     "output_type": "execute_result"
    },
    {
     "data": {
      "image/png": "[encoded data removed]",
      "text/plain": [
       "<Figure size 640x480 with 1 Axes>"
      ]
     },
     "metadata": {},
     "output_type": "display_data"
    }
   ],
   "source": [
    "plt.plot(df[4],df[2])\n",
    "plt.plot(df[4],df[3])"
   ]
  }
 ],
 "metadata": {
  "kernelspec": {
   "display_name": "Python 3",
   "language": "python",
   "name": "python3"
  },
  "language_info": {
   "codemirror_mode": {
    "name": "ipython",
    "version": 3
   },
   "file_extension": ".py",
   "mimetype": "text/x-python",
   "name": "python",
   "nbconvert_exporter": "python",
   "pygments_lexer": "ipython3",
   "version": "3.9.13"
  }
 },
 "nbformat": 4,
 "nbformat_minor": 2
}
