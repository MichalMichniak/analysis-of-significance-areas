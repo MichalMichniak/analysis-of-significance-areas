{
 "cells": [
  {
   "cell_type": "code",
   "execution_count": 1,
   "metadata": {},
   "outputs": [
    {
     "name": "stderr",
     "output_type": "stream",
     "text": [
      "c:\\Users\\nikos\\AppData\\Local\\Programs\\Python\\Python39\\lib\\site-packages\\torchvision\\datapoints\\__init__.py:12: UserWarning: The torchvision.datapoints and torchvision.transforms.v2 namespaces are still Beta. While we do not expect major breaking changes, some APIs may still change according to user feedback. Please submit any feedback you may have in this issue: https://github.com/pytorch/vision/issues/6753, and you can also check out https://github.com/pytorch/vision/issues/7319 to learn more about the APIs that we suspect might involve future changes. You can silence this warning by calling torchvision.disable_beta_transforms_warning().\n",
      "  warnings.warn(_BETA_TRANSFORMS_WARNING)\n",
      "c:\\Users\\nikos\\AppData\\Local\\Programs\\Python\\Python39\\lib\\site-packages\\torchvision\\transforms\\v2\\__init__.py:54: UserWarning: The torchvision.datapoints and torchvision.transforms.v2 namespaces are still Beta. While we do not expect major breaking changes, some APIs may still change according to user feedback. Please submit any feedback you may have in this issue: https://github.com/pytorch/vision/issues/6753, and you can also check out https://github.com/pytorch/vision/issues/7319 to learn more about the APIs that we suspect might involve future changes. You can silence this warning by calling torchvision.disable_beta_transforms_warning().\n",
      "  warnings.warn(_BETA_TRANSFORMS_WARNING)\n"
     ]
    }
   ],
   "source": [
    "from src.faithfulness.FaithfulnessMeasurment import FaithfulnessMeasurment\n",
    "from src.EuroSat_dataloaders import transformation_eurosat\n",
    "from torchvision.datasets import EuroSAT\n",
    "from src.EuroSat_dataloaders import Test_Dataset_EuroSat,Validation_Dataset_EuroSat\n",
    "from torchvision.transforms import v2\n",
    "import torch\n",
    "import numpy as np\n",
    "import pandas as pd\n",
    "import tqdm\n",
    "DS_LABELS = [\"AnnualCrop\", \"Forest\", \"HerbaceousVegetation\", \"Highway\",\"Industrial\",\"Pasture\",\"PermanentCrop\",\n",
    "             \"Residential\", \"River\", \"SeaLake\"]"
   ]
  },
  {
   "cell_type": "code",
   "execution_count": 2,
   "metadata": {},
   "outputs": [
    {
     "name": "stderr",
     "output_type": "stream",
     "text": [
      "c:\\Users\\nikos\\AppData\\Local\\Programs\\Python\\Python39\\lib\\site-packages\\torchvision\\transforms\\v2\\_deprecated.py:41: UserWarning: The transform `ToTensor()` is deprecated and will be removed in a future release. Instead, please use `transforms.Compose([transforms.ToImageTensor(), transforms.ConvertImageDtype()])`.\n",
      "  warnings.warn(\n",
      "  0%|          | 0/2701 [00:00<?, ?it/s]c:\\Users\\nikos\\AppData\\Local\\Programs\\Python\\Python39\\lib\\site-packages\\torch\\nn\\modules\\container.py:217: UserWarning: Implicit dimension choice for softmax has been deprecated. Change the call to include dim=X as an argument.\n",
      "  input = module(input)\n",
      "100%|█████████▉| 2700/2701 [00:21<00:00, 125.30it/s]\n"
     ]
    }
   ],
   "source": [
    "# model load:\n",
    "resnet50 = torch.load(\"finished\\\\ResNet50\\\\resnet50_model.pth\")\n",
    "resnet50.cuda()\n",
    "# dataset:\n",
    "transforms = v2.Compose([\n",
    "    v2.ToTensor(),\n",
    "    v2.ToDtype(torch.float32),\n",
    "    v2.Resize(224,antialias=None),\n",
    "])\n",
    "ds = EuroSAT(\"../EuroSat\",transform=transforms,target_transform=transformation_eurosat,download=True)\n",
    "ds_test = Test_Dataset_EuroSat(ds)\n",
    "lst = []\n",
    "for i,tq in zip(range(len(ds_test)),tqdm.tqdm(range(len(ds_test)))):\n",
    "    input_ = ds_test[i][0].unsqueeze(0).cuda()\n",
    "    temp = resnet50(input_)\n",
    "    lst.append(temp.reshape(10).detach().cpu().numpy())\n",
    "data = pd.DataFrame(np.array(lst),columns=DS_LABELS)\n",
    "data.to_csv(\"finished/ResNet50/pred_test.csv\",index=False)"
   ]
  },
  {
   "cell_type": "markdown",
   "metadata": {},
   "source": [
    "# New ResNet50"
   ]
  },
  {
   "cell_type": "code",
   "execution_count": 3,
   "metadata": {},
   "outputs": [
    {
     "name": "stderr",
     "output_type": "stream",
     "text": [
      "c:\\Users\\nikos\\AppData\\Local\\Programs\\Python\\Python39\\lib\\site-packages\\torchvision\\transforms\\v2\\_deprecated.py:41: UserWarning: The transform `ToTensor()` is deprecated and will be removed in a future release. Instead, please use `transforms.Compose([transforms.ToImageTensor(), transforms.ConvertImageDtype()])`.\n",
      "  warnings.warn(\n",
      "100%|█████████▉| 5399/5400 [00:38<00:00, 139.72it/s]\n"
     ]
    }
   ],
   "source": [
    "# model load:\n",
    "resnet50 = torch.load(\"finished\\\\ResNet50_new\\\\resnet50_model.pth\")\n",
    "resnet50.cuda()\n",
    "\n",
    "fc_ = list(resnet50.fc)\n",
    "fc_.append(torch.nn.Softmax(dim=1))\n",
    "resnet50.fc = torch.nn.Sequential(*fc_)\n",
    "resnet50.eval()\n",
    "# dataset:\n",
    "transforms = v2.Compose([\n",
    "    v2.ToTensor(),\n",
    "    v2.ToDtype(torch.float32),\n",
    "    v2.Resize(224,antialias=None),\n",
    "])\n",
    "ds = EuroSAT(\"../EuroSat\",transform=transforms,target_transform=transformation_eurosat,download=True)\n",
    "ds_test = Validation_Dataset_EuroSat(ds)\n",
    "lst = []\n",
    "for i,tq in zip(range(len(ds_test)),tqdm.tqdm(range(len(ds_test)))):\n",
    "    input_ = ds_test[i][0].unsqueeze(0).cuda()\n",
    "    temp = resnet50(input_)\n",
    "    lst.append(temp.reshape(10).detach().cpu().numpy())\n",
    "data = pd.DataFrame(np.array(lst),columns=DS_LABELS)\n",
    "data.to_csv(\"finished/ResNet50_new/pred_valid.csv\",index=False)"
   ]
  },
  {
   "cell_type": "code",
   "execution_count": 4,
   "metadata": {},
   "outputs": [
    {
     "name": "stderr",
     "output_type": "stream",
     "text": [
      "c:\\Users\\nikos\\AppData\\Local\\Programs\\Python\\Python39\\lib\\site-packages\\torchvision\\transforms\\v2\\_deprecated.py:41: UserWarning: The transform `ToTensor()` is deprecated and will be removed in a future release. Instead, please use `transforms.Compose([transforms.ToImageTensor(), transforms.ConvertImageDtype()])`.\n",
      "  warnings.warn(\n",
      "100%|█████████▉| 2700/2701 [00:19<00:00, 140.19it/s]\n"
     ]
    }
   ],
   "source": [
    "# model load:\n",
    "resnet50 = torch.load(\"finished\\\\ResNet50_new\\\\resnet50_model.pth\")\n",
    "resnet50.cuda()\n",
    "\n",
    "fc_ = list(resnet50.fc)\n",
    "fc_.append(torch.nn.Softmax(dim=1))\n",
    "resnet50.fc = torch.nn.Sequential(*fc_)\n",
    "resnet50.eval()\n",
    "# dataset:\n",
    "transforms = v2.Compose([\n",
    "    v2.ToTensor(),\n",
    "    v2.ToDtype(torch.float32),\n",
    "    v2.Resize(224,antialias=None),\n",
    "])\n",
    "ds = EuroSAT(\"../EuroSat\",transform=transforms,target_transform=transformation_eurosat,download=True)\n",
    "ds_test = Test_Dataset_EuroSat(ds)\n",
    "lst = []\n",
    "for i,tq in zip(range(len(ds_test)),tqdm.tqdm(range(len(ds_test)))):\n",
    "    input_ = ds_test[i][0].unsqueeze(0).cuda()\n",
    "    temp = resnet50(input_)\n",
    "    lst.append(temp.reshape(10).detach().cpu().numpy())\n",
    "data = pd.DataFrame(np.array(lst),columns=DS_LABELS)\n",
    "data.to_csv(\"finished/ResNet50_new/pred_test.csv\",index=False)"
   ]
  },
  {
   "cell_type": "markdown",
   "metadata": {},
   "source": [
    "# VGG"
   ]
  },
  {
   "cell_type": "code",
   "execution_count": 5,
   "metadata": {},
   "outputs": [
    {
     "name": "stderr",
     "output_type": "stream",
     "text": [
      "c:\\Users\\nikos\\AppData\\Local\\Programs\\Python\\Python39\\lib\\site-packages\\torchvision\\transforms\\v2\\_deprecated.py:41: UserWarning: The transform `ToTensor()` is deprecated and will be removed in a future release. Instead, please use `transforms.Compose([transforms.ToImageTensor(), transforms.ConvertImageDtype()])`.\n",
      "  warnings.warn(\n",
      "100%|█████████▉| 5399/5400 [00:45<00:00, 119.83it/s]\n"
     ]
    }
   ],
   "source": [
    "# model load:\n",
    "vgg16 = torch.load(\"finished\\\\VGG16\\\\vgg_model.pth\")\n",
    "vgg16.cuda()\n",
    "\n",
    "fc_ = list(vgg16.classifier)\n",
    "fc_.append(torch.nn.Softmax(dim=1))\n",
    "vgg16.classifier = torch.nn.Sequential(*fc_)\n",
    "vgg16.eval()\n",
    "# dataset:\n",
    "transforms = v2.Compose([\n",
    "    v2.ToTensor(),\n",
    "    v2.ToDtype(torch.float32),\n",
    "    v2.Resize(224,antialias=None),\n",
    "])\n",
    "ds = EuroSAT(\"../EuroSat\",transform=transforms,target_transform=transformation_eurosat,download=True)\n",
    "ds_test = Validation_Dataset_EuroSat(ds)\n",
    "lst = []\n",
    "for i,tq in zip(range(len(ds_test)),tqdm.tqdm(range(len(ds_test)))):\n",
    "    input_ = ds_test[i][0].unsqueeze(0).cuda()\n",
    "    temp = vgg16(input_)\n",
    "    lst.append(temp.reshape(10).detach().cpu().numpy())\n",
    "data = pd.DataFrame(np.array(lst),columns=DS_LABELS)\n",
    "data.to_csv(\"finished/VGG16/pred_valid.csv\",index=False)"
   ]
  },
  {
   "cell_type": "code",
   "execution_count": 6,
   "metadata": {},
   "outputs": [
    {
     "name": "stderr",
     "output_type": "stream",
     "text": [
      "c:\\Users\\nikos\\AppData\\Local\\Programs\\Python\\Python39\\lib\\site-packages\\torchvision\\transforms\\v2\\_deprecated.py:41: UserWarning: The transform `ToTensor()` is deprecated and will be removed in a future release. Instead, please use `transforms.Compose([transforms.ToImageTensor(), transforms.ConvertImageDtype()])`.\n",
      "  warnings.warn(\n",
      "100%|█████████▉| 2700/2701 [00:21<00:00, 124.42it/s]\n"
     ]
    }
   ],
   "source": [
    "# model load:\n",
    "vgg16 = torch.load(\"finished\\\\VGG16\\\\vgg_model.pth\")\n",
    "vgg16.cuda()\n",
    "\n",
    "fc_ = list(vgg16.classifier)\n",
    "fc_.append(torch.nn.Softmax(dim=1))\n",
    "vgg16.classifier = torch.nn.Sequential(*fc_)\n",
    "vgg16.eval()\n",
    "# dataset:\n",
    "transforms = v2.Compose([\n",
    "    v2.ToTensor(),\n",
    "    v2.ToDtype(torch.float32),\n",
    "    v2.Resize(224,antialias=None),\n",
    "])\n",
    "ds = EuroSAT(\"../EuroSat\",transform=transforms,target_transform=transformation_eurosat,download=False)\n",
    "ds_test = Test_Dataset_EuroSat(ds)\n",
    "lst = []\n",
    "for i,tq in zip(range(len(ds_test)),tqdm.tqdm(range(len(ds_test)))):\n",
    "    input_ = ds_test[i][0].unsqueeze(0).cuda()\n",
    "    temp = vgg16(input_)\n",
    "    lst.append(temp.reshape(10).detach().cpu().numpy())\n",
    "data = pd.DataFrame(np.array(lst),columns=DS_LABELS)\n",
    "data.to_csv(\"finished/VGG16/pred_test.csv\",index=False)"
   ]
  }
 ],
 "metadata": {
  "kernelspec": {
   "display_name": "Python 3",
   "language": "python",
   "name": "python3"
  },
  "language_info": {
   "codemirror_mode": {
    "name": "ipython",
    "version": 3
   },
   "file_extension": ".py",
   "mimetype": "text/x-python",
   "name": "python",
   "nbconvert_exporter": "python",
   "pygments_lexer": "ipython3",
   "version": "3.9.13"
  }
 },
 "nbformat": 4,
 "nbformat_minor": 2
}
