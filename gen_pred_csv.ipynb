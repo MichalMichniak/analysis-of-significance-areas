{
 "cells": [
  {
   "cell_type": "code",
   "execution_count": 24,
   "metadata": {},
   "outputs": [],
   "source": [
    "from src.faithfulness.FaithfulnessMeasurment import FaithfulnessMeasurment\n",
    "from src.EuroSat_dataloaders import transformation_eurosat\n",
    "from torchvision.datasets import EuroSAT\n",
    "from src.EuroSat_dataloaders import Test_Dataset_EuroSat\n",
    "from torchvision.transforms import v2\n",
    "import torch\n",
    "import numpy as np\n",
    "import pandas as pd\n",
    "import tqdm\n",
    "DS_LABELS = [\"AnnualCrop\", \"Forest\", \"HerbaceousVegetation\", \"Highway\",\"Industrial\",\"Pasture\",\"PermanentCrop\",\n",
    "             \"Residential\", \"River\", \"SeaLake\"]"
   ]
  },
  {
   "cell_type": "code",
   "execution_count": 25,
   "metadata": {},
   "outputs": [
    {
     "name": "stderr",
     "output_type": "stream",
     "text": [
      "c:\\Users\\nikos\\AppData\\Local\\Programs\\Python\\Python39\\lib\\site-packages\\torchvision\\transforms\\v2\\_deprecated.py:41: UserWarning: The transform `ToTensor()` is deprecated and will be removed in a future release. Instead, please use `transforms.Compose([transforms.ToImageTensor(), transforms.ConvertImageDtype()])`.\n",
      "  warnings.warn(\n",
      "  0%|          | 0/5400 [00:00<?, ?it/s]c:\\Users\\nikos\\AppData\\Local\\Programs\\Python\\Python39\\lib\\site-packages\\torch\\nn\\modules\\container.py:217: UserWarning: Implicit dimension choice for softmax has been deprecated. Change the call to include dim=X as an argument.\n",
      "  input = module(input)\n",
      "100%|█████████▉| 5399/5400 [00:39<00:00, 135.77it/s]\n"
     ]
    }
   ],
   "source": [
    "# model load:\n",
    "resnet50 = torch.load(\"finished\\\\ResNet50\\\\resnet50_model.pth\")\n",
    "resnet50.cuda()\n",
    "# dataset:\n",
    "transforms = v2.Compose([\n",
    "    v2.ToTensor(),\n",
    "    v2.ToDtype(torch.float32),\n",
    "    v2.Resize(224,antialias=None),\n",
    "])\n",
    "ds = EuroSAT(\"../EuroSat\",transform=transforms,target_transform=transformation_eurosat,download=False)\n",
    "ds_test = Test_Dataset_EuroSat(ds)\n",
    "lst = []\n",
    "for i,tq in zip(range(len(ds_test)),tqdm.tqdm(range(len(ds_test)))):\n",
    "    input_ = ds_test[i][0].unsqueeze(0).cuda()\n",
    "    temp = resnet50(input_)\n",
    "    lst.append(temp.reshape(10).detach().cpu().numpy())\n",
    "data = pd.DataFrame(np.array(lst),columns=DS_LABELS)\n",
    "data.to_csv(\"finished/ResNet50/pred_test.csv\",index=False)"
   ]
  }
 ],
 "metadata": {
  "kernelspec": {
   "display_name": "Python 3",
   "language": "python",
   "name": "python3"
  },
  "language_info": {
   "codemirror_mode": {
    "name": "ipython",
    "version": 3
   },
   "file_extension": ".py",
   "mimetype": "text/x-python",
   "name": "python",
   "nbconvert_exporter": "python",
   "pygments_lexer": "ipython3",
   "version": "3.9.13"
  }
 },
 "nbformat": 4,
 "nbformat_minor": 2
}
