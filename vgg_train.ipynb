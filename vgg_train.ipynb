{
 "cells": [
  {
   "cell_type": "code",
   "execution_count": 10,
   "metadata": {},
   "outputs": [],
   "source": [
    "from src.VGG16_model import VGG16_model_transfer\n",
    "from src.dataset_info import *\n",
    "from src.Bigearth import Bigearth\n",
    "import torch\n",
    "\n",
    "vgg_16 = VGG16_model_transfer()\n",
    "vgg_16.load(43,False)"
   ]
  },
  {
   "cell_type": "code",
   "execution_count": 11,
   "metadata": {},
   "outputs": [],
   "source": [
    "from src.Bigearth import Bigearth, Dataloader\n",
    "bigearth_dl = Bigearth()\n",
    "dataloader = Dataloader(bigearth_dl)"
   ]
  },
  {
   "cell_type": "code",
   "execution_count": 12,
   "metadata": {},
   "outputs": [
    {
     "name": "stderr",
     "output_type": "stream",
     "text": [
      "100%|█████████▉| 399/400 [00:08<00:00, 45.53it/s]\n"
     ]
    },
    {
     "name": "stdout",
     "output_type": "stream",
     "text": [
      "EPOCH: 1, TEST_LOSS1.0109368391825788, TEST_ACCURACY0.175\n"
     ]
    },
    {
     "data": {
      "text/plain": [
       "([3.544104275107384], [1.0109368391825788], [0.6175], [0.175])"
      ]
     },
     "execution_count": 12,
     "metadata": {},
     "output_type": "execute_result"
    }
   ],
   "source": [
    "vgg_16.train(1,dataloader)"
   ]
  }
 ],
 "metadata": {
  "language_info": {
   "name": "python"
  }
 },
 "nbformat": 4,
 "nbformat_minor": 2
}
