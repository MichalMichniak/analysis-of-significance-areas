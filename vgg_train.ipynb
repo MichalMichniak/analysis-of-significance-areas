{
 "cells": [
  {
   "cell_type": "code",
   "execution_count": 1,
   "metadata": {},
   "outputs": [],
   "source": [
    "from src.VGG16_model import VGG16_model_transfer\n",
    "from src.dataset_info import *\n",
    "import torch\n",
    "\n",
    "vgg_16 = VGG16_model_transfer()\n",
    "vgg_16.load(13,False,conv_layers_train=True)"
   ]
  },
  {
   "cell_type": "code",
   "execution_count": 4,
   "metadata": {},
   "outputs": [],
   "source": [
    "from src.Bigearth import Bigearth_Pruned, Train_Dataset, Test_Dataset\n",
    "from torch.utils.data import Dataset,DataLoader\n",
    "bigearth_dl = Bigearth_Pruned()\n",
    "bigearth_dl = Bigearth_Pruned()\n",
    "dataset = Train_Dataset(bigearth_dl,batch_len=8)\n",
    "test_dataset = Test_Dataset(bigearth_dl,batch_len=8)\n",
    "dataloader = DataLoader(dataset=dataset, batch_size=32,shuffle= True,num_workers=4 )\n",
    "test_dataloader = DataLoader(dataset=test_dataset, batch_size=32,shuffle= True,num_workers=4 )"
   ]
  },
  {
   "cell_type": "code",
   "execution_count": 5,
   "metadata": {},
   "outputs": [
    {
     "name": "stderr",
     "output_type": "stream",
     "text": [
      "  0%|          | 2/20312 [00:15<44:11:02,  7.83s/it]\n"
     ]
    },
    {
     "ename": "KeyboardInterrupt",
     "evalue": "",
     "output_type": "error",
     "traceback": [
      "\u001b[1;31m---------------------------------------------------------------------------\u001b[0m",
      "\u001b[1;31mKeyboardInterrupt\u001b[0m                         Traceback (most recent call last)",
      "\u001b[1;32mc:\\D\\VS_programs_python\\inzynierka\\analysis-of-significance-areas\\vgg_train.ipynb Cell 3\u001b[0m line \u001b[0;36m1\n\u001b[1;32m----> <a href='vscode-notebook-cell:/c%3A/D/VS_programs_python/inzynierka/analysis-of-significance-areas/vgg_train.ipynb#W2sZmlsZQ%3D%3D?line=0'>1</a>\u001b[0m train_loss,test_loss,train_accuracy,test_accuracy \u001b[39m=\u001b[39m vgg_16\u001b[39m.\u001b[39;49mtrain(\u001b[39m2\u001b[39;49m,dataloader,test_dataloader)\n",
      "File \u001b[1;32mc:\\D\\VS_programs_python\\inzynierka\\analysis-of-significance-areas\\src\\VGG16_model.py:91\u001b[0m, in \u001b[0;36mVGG16_model_transfer.train\u001b[1;34m(self, nr_epoch, dataloader, test_dataloader, learning_rate, weight_decay)\u001b[0m\n\u001b[0;32m     88\u001b[0m \u001b[39mfor\u001b[39;00m (x_batch,y_batch),tqdm_progress \u001b[39min\u001b[39;00m \u001b[39mzip\u001b[39m(\u001b[39miter\u001b[39m(dataloader),tqdm(\u001b[39mrange\u001b[39m(\u001b[39mlen\u001b[39m(dataloader)\u001b[39m-\u001b[39m\u001b[39m1\u001b[39m))):\n\u001b[0;32m     89\u001b[0m     \u001b[39m# break\u001b[39;00m\n\u001b[0;32m     90\u001b[0m     y_pred \u001b[39m=\u001b[39m \u001b[39mself\u001b[39m\u001b[39m.\u001b[39mforward_pass(x_batch)\n\u001b[1;32m---> 91\u001b[0m     loss \u001b[39m=\u001b[39m loss_func(y_pred,y_batch\u001b[39m.\u001b[39;49mfloat()\u001b[39m.\u001b[39;49mcuda())\n\u001b[0;32m     92\u001b[0m     accuracy_tr \u001b[39m+\u001b[39m\u001b[39m=\u001b[39m acc_metric(y_pred,y_batch\u001b[39m.\u001b[39mfloat()\u001b[39m.\u001b[39mcuda())\n\u001b[0;32m     93\u001b[0m     \u001b[39m### accuracy on training set\u001b[39;00m\n\u001b[0;32m     94\u001b[0m     \u001b[39m# for x,y in zip(x_batch,y_batch):\u001b[39;00m\n\u001b[0;32m     95\u001b[0m     \u001b[39m#     # x = torch.unsqueeze(torch.from_numpy(x).T,0)\u001b[39;00m\n\u001b[1;32m   (...)\u001b[0m\n\u001b[0;32m    100\u001b[0m     \u001b[39m#         if torch.argmax(y_pred) == torch.argmax(torch.unsqueeze(torch.from_numpy(y.astype(float)),0).cuda()):\u001b[39;00m\n\u001b[0;32m    101\u001b[0m     \u001b[39m#             accuracy_tr += 1\u001b[39;00m\n",
      "\u001b[1;31mKeyboardInterrupt\u001b[0m: "
     ]
    }
   ],
   "source": [
    "train_loss,test_loss,train_accuracy,test_accuracy = vgg_16.train(2,dataloader,test_dataloader)"
   ]
  }
 ],
 "metadata": {
  "kernelspec": {
   "display_name": "Python 3",
   "language": "python",
   "name": "python3"
  },
  "language_info": {
   "codemirror_mode": {
    "name": "ipython",
    "version": 3
   },
   "file_extension": ".py",
   "mimetype": "text/x-python",
   "name": "python",
   "nbconvert_exporter": "python",
   "pygments_lexer": "ipython3",
   "version": "3.9.13"
  }
 },
 "nbformat": 4,
 "nbformat_minor": 2
}
