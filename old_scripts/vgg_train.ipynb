{
 "cells": [
  {
   "cell_type": "code",
   "execution_count": 4,
   "metadata": {},
   "outputs": [],
   "source": [
    "from src.VGG16_model_BE import VGG16_model_transfer\n",
    "from src.dataset_info import *\n",
    "import torch\n",
    "\n",
    "vgg_16 = VGG16_model_transfer()\n",
    "vgg_16.load(13,True,conv_layers_train=True)"
   ]
  },
  {
   "cell_type": "code",
   "execution_count": 5,
   "metadata": {},
   "outputs": [],
   "source": [
    "from src.Bigearth import Bigearth_Pruned, Train_Dataset, Test_Dataset\n",
    "from torch.utils.data import Dataset,DataLoader\n",
    "bigearth_dl = Bigearth_Pruned()\n",
    "bigearth_dl = Bigearth_Pruned()\n",
    "dataset = Train_Dataset(bigearth_dl,batch_len=8)\n",
    "test_dataset = Test_Dataset(bigearth_dl,batch_len=8)\n",
    "dataloader = DataLoader(dataset=dataset, batch_size=32,shuffle= True,num_workers=4 )\n",
    "test_dataloader = DataLoader(dataset=test_dataset, batch_size=32,shuffle= True,num_workers=4 )"
   ]
  },
  {
   "cell_type": "code",
   "execution_count": 6,
   "metadata": {},
   "outputs": [
    {
     "name": "stderr",
     "output_type": "stream",
     "text": [
      "  0%|          | 9/20312 [00:07<4:24:52,  1.28it/s]"
     ]
    }
   ],
   "source": [
    "train_loss,test_loss,train_accuracy,test_accuracy = vgg_16.train(2,dataloader,test_dataloader)"
   ]
  }
 ],
 "metadata": {
  "kernelspec": {
   "display_name": "Python 3",
   "language": "python",
   "name": "python3"
  },
  "language_info": {
   "codemirror_mode": {
    "name": "ipython",
    "version": 3
   },
   "file_extension": ".py",
   "mimetype": "text/x-python",
   "name": "python",
   "nbconvert_exporter": "python",
   "pygments_lexer": "ipython3",
   "version": "3.9.13"
  }
 },
 "nbformat": 4,
 "nbformat_minor": 2
}
