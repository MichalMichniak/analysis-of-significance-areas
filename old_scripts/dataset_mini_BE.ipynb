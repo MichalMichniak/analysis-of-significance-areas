{
 "cells": [
  {
   "cell_type": "code",
   "execution_count": 8,
   "metadata": {},
   "outputs": [],
   "source": [
    "from torch.utils.data import Dataset,DataLoader\n",
    "from sklearn.preprocessing import OneHotEncoder\n",
    "import torch\n",
    "import cv2\n",
    "import numpy as np\n",
    "import matplotlib.pyplot as plt\n",
    "import pandas as pd\n",
    "import sklearn.model_selection\n",
    "import shutil\n",
    "\n",
    "df = pd.read_csv(\"train_labels.csv\")\n",
    "\n",
    "train, test = sklearn.model_selection.train_test_split(df, test_size=0.01, random_state=77675352)\n",
    "for i in test[\"idx\"]:\n",
    "    shutil.copyfile(f\"C:\\D\\VS_programs_python\\inzynierka\\BigearthNet_png\\{i}.png\",f\"C:\\D\\VS_programs_python\\inzynierka\\BigearthNet_train_mini\\{i}.png\" )"
   ]
  },
  {
   "cell_type": "code",
   "execution_count": 9,
   "metadata": {},
   "outputs": [],
   "source": [
    "test.to_csv(\"mini_train.csv\", index=False)"
   ]
  }
 ],
 "metadata": {
  "kernelspec": {
   "display_name": "Python 3",
   "language": "python",
   "name": "python3"
  },
  "language_info": {
   "codemirror_mode": {
    "name": "ipython",
    "version": 3
   },
   "file_extension": ".py",
   "mimetype": "text/x-python",
   "name": "python",
   "nbconvert_exporter": "python",
   "pygments_lexer": "ipython3",
   "version": "3.9.13"
  }
 },
 "nbformat": 4,
 "nbformat_minor": 2
}
