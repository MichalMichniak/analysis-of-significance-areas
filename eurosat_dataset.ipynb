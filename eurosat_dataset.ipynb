{
 "cells": [
  {
   "cell_type": "code",
   "execution_count": 1,
   "metadata": {},
   "outputs": [],
   "source": [
    "import torch\n",
    "from src.EuroSat_dataloaders import transformation_eurosat"
   ]
  },
  {
   "cell_type": "code",
   "execution_count": 2,
   "metadata": {},
   "outputs": [
    {
     "name": "stderr",
     "output_type": "stream",
     "text": [
      "c:\\Users\\nikos\\AppData\\Local\\Programs\\Python\\Python39\\lib\\site-packages\\torchvision\\datapoints\\__init__.py:12: UserWarning: The torchvision.datapoints and torchvision.transforms.v2 namespaces are still Beta. While we do not expect major breaking changes, some APIs may still change according to user feedback. Please submit any feedback you may have in this issue: https://github.com/pytorch/vision/issues/6753, and you can also check out https://github.com/pytorch/vision/issues/7319 to learn more about the APIs that we suspect might involve future changes. You can silence this warning by calling torchvision.disable_beta_transforms_warning().\n",
      "  warnings.warn(_BETA_TRANSFORMS_WARNING)\n",
      "c:\\Users\\nikos\\AppData\\Local\\Programs\\Python\\Python39\\lib\\site-packages\\torchvision\\transforms\\v2\\__init__.py:54: UserWarning: The torchvision.datapoints and torchvision.transforms.v2 namespaces are still Beta. While we do not expect major breaking changes, some APIs may still change according to user feedback. Please submit any feedback you may have in this issue: https://github.com/pytorch/vision/issues/6753, and you can also check out https://github.com/pytorch/vision/issues/7319 to learn more about the APIs that we suspect might involve future changes. You can silence this warning by calling torchvision.disable_beta_transforms_warning().\n",
      "  warnings.warn(_BETA_TRANSFORMS_WARNING)\n"
     ]
    }
   ],
   "source": [
    "import pandas as pd\n",
    "import matplotlib.pyplot as plt\n",
    "import numpy as np\n",
    "from torchvision.datasets import EuroSAT\n",
    "from torchvision.transforms import v2\n",
    "from torch.utils.data import Dataset,DataLoader\n",
    "\n",
    "ds = EuroSAT(\"../EuroSat\",download=False)\n"
   ]
  },
  {
   "cell_type": "code",
   "execution_count": 15,
   "metadata": {},
   "outputs": [
    {
     "name": "stderr",
     "output_type": "stream",
     "text": [
      "c:\\Users\\nikos\\AppData\\Local\\Programs\\Python\\Python39\\lib\\site-packages\\torchvision\\transforms\\v2\\_deprecated.py:41: UserWarning: The transform `ToTensor()` is deprecated and will be removed in a future release. Instead, please use `transforms.Compose([transforms.ToImageTensor(), transforms.ConvertImageDtype()])`.\n",
      "  warnings.warn(\n"
     ]
    }
   ],
   "source": [
    "\n",
    "transforms = v2.Compose([\n",
    "    v2.ToTensor(),\n",
    "    v2.ToDtype(torch.float32),\n",
    "    v2.Normalize(mean=[ 87.31588889,  96.47403704, 103.47966667], std=[22.79411111, 16.10118519, 13.59133333]),\n",
    "    v2.Resize(224),\n",
    "])\n",
    "# ds = EuroSAT(\"../EuroSat\",transform=transforms,download=False)"
   ]
  },
  {
   "cell_type": "code",
   "execution_count": 16,
   "metadata": {},
   "outputs": [],
   "source": [
    "ds = EuroSAT(\"../EuroSat\",transform=transforms,target_transform=transformation_eurosat,download=False)\n",
    "dataloader = DataLoader(dataset=ds, batch_size=32,shuffle=True,num_workers=4, pin_memory_device='cuda:0')\n"
   ]
  },
  {
   "cell_type": "code",
   "execution_count": 5,
   "metadata": {},
   "outputs": [
    {
     "name": "stderr",
     "output_type": "stream",
     "text": [
      "c:\\Users\\nikos\\AppData\\Local\\Programs\\Python\\Python39\\lib\\site-packages\\torchvision\\transforms\\v2\\_deprecated.py:41: UserWarning: The transform `ToTensor()` is deprecated and will be removed in a future release. Instead, please use `transforms.Compose([transforms.ToImageTensor(), transforms.ConvertImageDtype()])`.\n",
      "  warnings.warn(\n"
     ]
    }
   ],
   "source": [
    "from src.EuroSat_dataloaders import Test_Dataset_EuroSat, Train_Dataset_EuroSat \n",
    "transforms = v2.Compose([\n",
    "    v2.ToTensor(),\n",
    "    v2.ToDtype(torch.float32),\n",
    "    v2.Resize(224,antialias=None),\n",
    "])\n",
    "ds = EuroSAT(\"../EuroSat\",transform=transforms,target_transform=transformation_eurosat,download=False)\n",
    "ds_test = Test_Dataset_EuroSat(ds)\n",
    "ds_train = Train_Dataset_EuroSat(ds)"
   ]
  },
  {
   "cell_type": "code",
   "execution_count": 10,
   "metadata": {},
   "outputs": [
    {
     "name": "stderr",
     "output_type": "stream",
     "text": [
      "100%|█████████▉| 5399/5400 [00:09<00:00, 586.93it/s]\n",
      "100%|█████████▉| 5399/5400 [00:09<00:00, 579.14it/s]\n",
      "100%|█████████▉| 5399/5400 [00:09<00:00, 574.19it/s]\n"
     ]
    },
    {
     "name": "stdout",
     "output_type": "stream",
     "text": [
      "[0.17722037 0.12389518 0.10415525]\n",
      "[-0.31044433 -0.23938923 -0.18359716]\n"
     ]
    },
    {
     "name": "stderr",
     "output_type": "stream",
     "text": [
      "100%|█████████▉| 21599/21600 [00:36<00:00, 587.29it/s]\n",
      "100%|█████████▉| 21599/21600 [00:37<00:00, 575.29it/s]\n",
      "100%|█████████▉| 21599/21600 [00:37<00:00, 577.65it/s]"
     ]
    },
    {
     "name": "stdout",
     "output_type": "stream",
     "text": [
      "[0.1768554  0.12416639 0.1041581 ]\n",
      "[-0.31124905 -0.23941825 -0.18445934]\n"
     ]
    },
    {
     "name": "stderr",
     "output_type": "stream",
     "text": [
      "\n"
     ]
    }
   ],
   "source": [
    "import tqdm\n",
    "mean_channels = [0,0,0]\n",
    "std_channels = [0,0,0]\n",
    "for j in range(3):\n",
    "    for i,tq in zip(range(len(ds_test)),tqdm.tqdm(range(1,len(ds_test)+1))):\n",
    "        mean_channels[j] += ds_test[i][0][j].mean().float()\n",
    "        std_channels[j] += ds_test[i][0][j].std().float()\n",
    "print(np.array(std_channels)/(len(ds_test)))\n",
    "print(np.array(mean_channels)/(len(ds_test)))\n",
    "for j in range(3):\n",
    "    for i,tq in zip(range(len(ds_train)),tqdm.tqdm(range(1,len(ds_train)+1))):\n",
    "        mean_channels[j] += ds_train[i][0][j].mean().float()\n",
    "        std_channels[j] += ds_train[i][0][j].std().float()\n",
    "print(np.array(std_channels)/(len(ds_test)+len(ds_train)))\n",
    "print(np.array(mean_channels)/(len(ds_test)+len(ds_train)))"
   ]
  }
 ],
 "metadata": {
  "kernelspec": {
   "display_name": "Python 3",
   "language": "python",
   "name": "python3"
  },
  "language_info": {
   "codemirror_mode": {
    "name": "ipython",
    "version": 3
   },
   "file_extension": ".py",
   "mimetype": "text/x-python",
   "name": "python",
   "nbconvert_exporter": "python",
   "pygments_lexer": "ipython3",
   "version": "3.9.13"
  }
 },
 "nbformat": 4,
 "nbformat_minor": 2
}
